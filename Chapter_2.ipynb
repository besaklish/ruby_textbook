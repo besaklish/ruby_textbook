{
 "cells": [
  {
   "cell_type": "markdown",
   "id": "2af6e1a0",
   "metadata": {},
   "source": [
    "# 2.3 文字列\n",
    "\n",
    "## シングルクオートとダブルクオート\n",
    "\n",
    "* シングルクオートに囲まれた文字列はそのまま認識される\n",
    "* ダブルクオートに囲まれた文字列は、改行文字や変数の埋め込みが可能\n",
    "\n",
    "(坂口) シングルクオートに囲まれた文字列はシンプル\n"
   ]
  },
  {
   "cell_type": "code",
   "execution_count": 11,
   "id": "6997c486",
   "metadata": {},
   "outputs": [
    {
     "name": "stdout",
     "output_type": "stream",
     "text": [
      "#####シングルクオートとダブルクオートの出力の比較#####\n",
      "\\nの比較\n",
      "シングルクオート: hello\\nworld\n",
      "ダブルクオート:    hello\n",
      "world\n",
      "\n",
      "#{}の比較\n",
      "シングルクオート: #{3} apples\n",
      "ダブルクオート:    3 apples\n",
      "\n",
      "\\#{}の比較\n",
      "シングルクオート: \\#{3} apples\n",
      "ダブルクオート:    #{3} apples\n",
      "\n",
      "ダブルクオートをエスケープした際の比較\n",
      "シングルクオート: Don\\\"t wanna run\n",
      "ダブルクオート:    Don\"t wanna run\n",
      "\n",
      "シングルクオートをエスケープした際の比較\n",
      "シングルクオート: Don't wanna run\n",
      "ダブルクオート:    Don't wanna run\n"
     ]
    }
   ],
   "source": [
    "puts '#####シングルクオートとダブルクオートの出力の比較#####'\n",
    "puts '\\nの比較'\n",
    "puts 'シングルクオート: ' + 'hello\\nworld'\n",
    "puts 'ダブルクオート:    ' + \"hello\\nworld\"\n",
    "\n",
    "puts\n",
    "puts '#{}の比較'\n",
    "puts 'シングルクオート: ' + '#{3} apples'\n",
    "puts 'ダブルクオート:    ' + \"#{3} apples\"\n",
    "\n",
    "puts\n",
    "puts '\\#{}の比較'\n",
    "puts 'シングルクオート: ' + '\\#{3} apples'\n",
    "puts 'ダブルクオート:    ' + \"\\#{3} apples\"\n",
    "\n",
    "puts\n",
    "puts 'ダブルクオートをエスケープした際の比較'\n",
    "puts 'シングルクオート: ' + 'Don\\\"t wanna run'\n",
    "puts 'ダブルクオート:    ' + \"Don\\\"t wanna run\"\n",
    "\n",
    "puts\n",
    "puts 'シングルクオートをエスケープした際の比較'\n",
    "puts 'シングルクオート: ' + 'Don\\'t wanna run'\n",
    "puts 'ダブルクオート:    ' + \"Don\\'t wanna run\""
   ]
  }
 ],
 "metadata": {
  "kernelspec": {
   "display_name": "Ruby 3.0.0",
   "language": "ruby",
   "name": "ruby"
  },
  "language_info": {
   "file_extension": ".rb",
   "mimetype": "application/x-ruby",
   "name": "ruby",
   "version": "3.0.0"
  }
 },
 "nbformat": 4,
 "nbformat_minor": 5
}
